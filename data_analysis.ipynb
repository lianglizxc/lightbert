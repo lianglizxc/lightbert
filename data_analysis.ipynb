{
 "cells": [
  {
   "cell_type": "code",
   "execution_count": 1,
   "metadata": {},
   "outputs": [],
   "source": [
    "import pandas as pd"
   ]
  },
  {
   "cell_type": "code",
   "execution_count": 2,
   "metadata": {},
   "outputs": [],
   "source": [
    "pd.set_option('display.max_rows', 500)\n",
    "pd.set_option('display.max_columns', 500)\n",
    "pd.set_option('display.width', 1000)"
   ]
  },
  {
   "cell_type": "code",
   "execution_count": 3,
   "metadata": {},
   "outputs": [],
   "source": [
    "finance_news = pd.read_excel('finance_data/SmoothNLP专栏资讯数据集样本10k.xlsx')\n",
    "finance_news = finance_news.drop(columns = ['Unnamed: 0'])"
   ]
  },
  {
   "cell_type": "code",
   "execution_count": 19,
   "metadata": {},
   "outputs": [],
   "source": [
    "finance_news = finance_news[~finance_news['content'].isna()]"
   ]
  },
  {
   "cell_type": "code",
   "execution_count": 4,
   "metadata": {},
   "outputs": [
    {
     "data": {
      "text/plain": [
       "Index(['title', 'content', 'pub_ts'], dtype='object')"
      ]
     },
     "execution_count": 4,
     "metadata": {},
     "output_type": "execute_result"
    }
   ],
   "source": [
    "finance_news.columns"
   ]
  },
  {
   "cell_type": "code",
   "execution_count": 5,
   "metadata": {},
   "outputs": [
    {
     "data": {
      "text/plain": [
       "'引入前美团地推大将，每日优鲜便利购如何上演“攻守道”?'"
      ]
     },
     "execution_count": 5,
     "metadata": {},
     "output_type": "execute_result"
    }
   ],
   "source": [
    "finance_news['title'].iloc[0]"
   ]
  },
  {
   "cell_type": "code",
   "execution_count": 6,
   "metadata": {},
   "outputs": [],
   "source": [
    "from gensim.summarization import keywords\n",
    "from gensim.summarization.summarizer import summarize"
   ]
  },
  {
   "cell_type": "code",
   "execution_count": 11,
   "metadata": {},
   "outputs": [
    {
     "data": {
      "text/plain": [
       "'这就形成了认知矛盾：当越来越多的人习惯性的将理财资金、银行卡等深度绑定到支付宝和微信之后，用户想要的扫码取款，是微信和支付宝扫码交易式的一键方便快捷操作。而近年银行推出的扫码取款，大多都是流于“扫码”形式，其本质仍然没有脱离于传统银行的流程架构，其体验也不如互联网产品的高效方便。\\n根据兰州银行的宣传材料，微信和支付宝用户在兰州银行任一ATM机具上点击“二维码取款”，输入取款金额后，ATM机具屏幕自动生成取款二维码，这时用户打开微信或者支付宝扫描二维码，输入支付密码，ATM机器就会自动吐钞。\\n正当大家思考是不是以后各银行都可以使用支付宝和微信在ATM机上扫码取款的时候，兰州银行的这个行为被紧急叫停了。而且是银行扫码取款问世一天后就被叫停了。\\n9月5日，兰州银行官方微信中关于“扫码取款”的消息也已被删除，当晚被暂停。9月6日，总行层面发文明确要求叫停。\\n“微信、支付宝等支付账户不能提取现金，支付企业也不能经营货币。经营货币是商业银行等金融机构才有的职能，支付账户与银行账户是两个不同的体系。”\\n董希淼认为，就具体业务而言，兰州银行此举意义不大。“支付宝、微信本身就是捆绑银行卡，如果要取现，直接用银行卡不是更直接?如果不想用银行卡，无卡取现、刷脸取现也已经日益普遍了。”\\n除了上述的监管问题，其中利益分配当然也是重要原因。毕竟在传统银行业，互联网想要以便利性打破传统壁垒也要付出不小的代价，此前支付宝们与银行不断的限额、手续费摩擦也证明了这点。\\n所以，像微信支付宝转账交易式方便快捷的“扫码取现”其实离我们已经不远，应该会在2年到5年间实现普及，毕竟在整体现金交易逐年递减、线上交易成为大趋势的现在，扫码取现这一需求只是很小的需求，它最终会随着互联网的大潮而实现，最终成为在“无现金”环境下装点银行业门面的小亮点罢了。'"
      ]
     },
     "execution_count": 11,
     "metadata": {},
     "output_type": "execute_result"
    }
   ],
   "source": [
    "summarize(finance_news['content'].iloc[2])"
   ]
  },
  {
   "cell_type": "code",
   "execution_count": 12,
   "metadata": {},
   "outputs": [
    {
     "name": "stderr",
     "output_type": "stream",
     "text": [
      "Paddle enabled successfully......\n"
     ]
    }
   ],
   "source": [
    "import jieba\n",
    "jieba.enable_paddle()"
   ]
  },
  {
   "cell_type": "code",
   "execution_count": 13,
   "metadata": {},
   "outputs": [],
   "source": [
    "tokens = jieba.cut(\"所以，整个过程有点像勘探。首先是有人发起，然后有千百人买了镐和铁锹跟进。有人会满载而归，但看走眼的人也会空手回来。\"\n",
    "                   ,cut_all=False)"
   ]
  },
  {
   "cell_type": "code",
   "execution_count": 14,
   "metadata": {},
   "outputs": [],
   "source": [
    "from zhon.hanzi import punctuation as punctuation_zh\n",
    "from string import punctuation\n",
    "from words_utils import tokenization as finance_token\n",
    "import re"
   ]
  },
  {
   "cell_type": "code",
   "execution_count": 15,
   "metadata": {},
   "outputs": [],
   "source": [
    "def clean_text(content):\n",
    "    content = re.sub('\\xa0 ?|\\u3000+', '', content)\n",
    "    content = re.sub(' ?\\n+', '\\n', content)\n",
    "    content = content.strip('\\n')\n",
    "    return content"
   ]
  },
  {
   "cell_type": "code",
   "execution_count": 20,
   "metadata": {},
   "outputs": [],
   "source": [
    "clean_content = finance_news['content'].apply(clean_text)"
   ]
  },
  {
   "cell_type": "code",
   "execution_count": 22,
   "metadata": {},
   "outputs": [],
   "source": [
    "clean_content_length = clean_content.apply(lambda x: len(x))"
   ]
  },
  {
   "cell_type": "code",
   "execution_count": 26,
   "metadata": {},
   "outputs": [
    {
     "data": {
      "text/plain": [
       "count     9994.000000\n",
       "mean      2743.330698\n",
       "std       1176.500166\n",
       "min          0.000000\n",
       "25%       1959.000000\n",
       "50%       2620.500000\n",
       "75%       3376.000000\n",
       "max      18431.000000\n",
       "Name: content, dtype: float64"
      ]
     },
     "execution_count": 26,
     "metadata": {},
     "output_type": "execute_result"
    }
   ],
   "source": [
    "clean_content_length.describe()"
   ]
  },
  {
   "cell_type": "code",
   "execution_count": 25,
   "metadata": {},
   "outputs": [
    {
     "data": {
      "text/plain": [
       "2330"
      ]
     },
     "execution_count": 25,
     "metadata": {},
     "output_type": "execute_result"
    }
   ],
   "source": [
    "len(clean_content[0])"
   ]
  },
  {
   "cell_type": "code",
   "execution_count": 28,
   "metadata": {},
   "outputs": [],
   "source": [
    "from albertlib.tokenization import BasicTokenizer"
   ]
  },
  {
   "cell_type": "code",
   "execution_count": 29,
   "metadata": {},
   "outputs": [],
   "source": [
    "tokenizer = BasicTokenizer()"
   ]
  },
  {
   "cell_type": "code",
   "execution_count": 31,
   "metadata": {},
   "outputs": [
    {
     "data": {
      "text/plain": [
       "2251"
      ]
     },
     "execution_count": 31,
     "metadata": {},
     "output_type": "execute_result"
    }
   ],
   "source": [
    "len(tokenizer.tokenize(clean_content[0]))"
   ]
  },
  {
   "cell_type": "code",
   "execution_count": 31,
   "metadata": {},
   "outputs": [],
   "source": [
    "stop_words = finance_token.read_stop_words()\n",
    "tokenizer = finance_token.JiebaTokenizer(stop_words, [punctuation, punctuation_zh], vocab = 'finance_data/vocab')"
   ]
  },
  {
   "cell_type": "code",
   "execution_count": 57,
   "metadata": {},
   "outputs": [
    {
     "data": {
      "text/plain": [
       "'王石遭“疯抢”！为什么那么多公司想聘请他当董事长？'"
      ]
     },
     "execution_count": 57,
     "metadata": {},
     "output_type": "execute_result"
    }
   ],
   "source": [
    "finance_news['title'].iloc[3]"
   ]
  },
  {
   "cell_type": "code",
   "execution_count": 58,
   "metadata": {},
   "outputs": [
    {
     "data": {
      "text/plain": [
       "'\\n\\xa0 \\xa0 \\xa0 67岁的王石，终究还是回到了他熟悉的商业领域这一战场。在此前一段时间，王石似乎是习惯性地过起了“佛系”生活。在之前的一年时间中，王石身上的标签是“深潜”、“划艇”、“公益”、“艺术”、“生态”。王石做网红大叔好像“上瘾”了，褪去那种在商界叱咤风云的霸气。\\n\\xa0 \\xa0 \\xa0 但王石终究不是一个会耐得住寂寞的人，今年成为了两家公司的联席董事长。值得一提的是，华大集团、远大集团的董事长都是王石的好朋友，因此王石才答应成为联席董事长。至于其他邀请自己的公司，王石通通都拒绝了。不过面对这样的“疯抢”，事实上也证明着王石有着自身独特的魅力。\\n\\xa0 \\xa0 \\xa0 有句老话说得好，“人的名，树的影”。执掌万科多年的王石，早就成为商界的标志性人物。再说了，王石还是8848手机的代言人！唔，也算是手机圈的“另类网红”了。而且能够在万科这样一个巨型平台上游刃有余地奋斗那么多年，自然能够反映出王石有着足够强的能力。\\n\\n\\xa0 \\xa0 \\xa0 当然，更被其他公司注重的是王石的人脉和资源等。在商界有着极大影响力的王石，哪怕不负责公司的任何具体事务，只要挂个名就能让这家公司瞬间成为关注的焦点。\\n\\xa0 \\xa0 \\xa0 比如就在王石宣布成为华大集团联席董事长后，华大集团的股价当天就一路飙涨，甚至实现连续数天的狂涨势头。如果王石动用自己的人脉和资源，更有可能为公司插上腾飞的翅膀。看来，王石本身的影响力和“朋友圈”是他受到“疯抢”的根本原因。\\n\\n\\xa0 \\xa0 \\xa0 但必须要指出的是，王石最熟悉的还是地产圈。而华大集团和远大集团的主要业务是有关生物科技、环保方面，王石究竟能够发挥出多少能力还有待商榷。比如华大集团表示王石将发挥其在经营管理、制度建设、商业运作等方面的丰富经验和卓越能力，协助董事长管理集团事宜。不过王石真能像管理地产集团那样，去管理生物科技公司吗？我们还不得而知。\\n\\xa0 \\xa0 \\xa0 而就目前来看，王石在这些公司似乎还偏向于“玄学”意味的管理模式。就像王石提到的那样，“无论是代表传统的还是代表未来的企业，还有我的位置，很多基本的逻辑和道理是一样的”。这是不是意味着王石并没有真正的全面突破，还是会延续既有的管理经验呢？结果到底如何，一切都交给时间去验证吧！（科技新发现 康斯坦丁/文）\\n'"
      ]
     },
     "execution_count": 58,
     "metadata": {},
     "output_type": "execute_result"
    }
   ],
   "source": [
    "finance_news['content'].iloc[3]"
   ]
  },
  {
   "cell_type": "code",
   "execution_count": 5,
   "metadata": {},
   "outputs": [
    {
     "name": "stderr",
     "output_type": "stream",
     "text": [
      "Building prefix dict from the default dictionary ...\n",
      "Loading model from cache /tmp/jieba.cache\n",
      "Loading model cost 0.584 seconds.\n",
      "Prefix dict has been built successfully.\n"
     ]
    }
   ],
   "source": [
    "all_token_length = []\n",
    "with open('finance_data/data.txt','r', encoding='UTF-8') as file:\n",
    "    for line in file:\n",
    "        line = line.strip()\n",
    "        if len(line) == 0:\n",
    "            continue\n",
    "        tokens = tokenizer.tokenize(line)\n",
    "        all_token_length.append(len(tokens))"
   ]
  },
  {
   "cell_type": "code",
   "execution_count": 11,
   "metadata": {},
   "outputs": [],
   "source": [
    "all_token_length = pd.DataFrame(all_token_length)"
   ]
  },
  {
   "cell_type": "code",
   "execution_count": 13,
   "metadata": {},
   "outputs": [
    {
     "data": {
      "text/html": [
       "<div>\n",
       "<style scoped>\n",
       "    .dataframe tbody tr th:only-of-type {\n",
       "        vertical-align: middle;\n",
       "    }\n",
       "\n",
       "    .dataframe tbody tr th {\n",
       "        vertical-align: top;\n",
       "    }\n",
       "\n",
       "    .dataframe thead th {\n",
       "        text-align: right;\n",
       "    }\n",
       "</style>\n",
       "<table border=\"1\" class=\"dataframe\">\n",
       "  <thead>\n",
       "    <tr style=\"text-align: right;\">\n",
       "      <th></th>\n",
       "      <th>0</th>\n",
       "    </tr>\n",
       "  </thead>\n",
       "  <tbody>\n",
       "    <tr>\n",
       "      <th>count</th>\n",
       "      <td>296933.000000</td>\n",
       "    </tr>\n",
       "    <tr>\n",
       "      <th>mean</th>\n",
       "      <td>25.683282</td>\n",
       "    </tr>\n",
       "    <tr>\n",
       "      <th>std</th>\n",
       "      <td>22.148801</td>\n",
       "    </tr>\n",
       "    <tr>\n",
       "      <th>min</th>\n",
       "      <td>0.000000</td>\n",
       "    </tr>\n",
       "    <tr>\n",
       "      <th>25%</th>\n",
       "      <td>10.000000</td>\n",
       "    </tr>\n",
       "    <tr>\n",
       "      <th>50%</th>\n",
       "      <td>23.000000</td>\n",
       "    </tr>\n",
       "    <tr>\n",
       "      <th>75%</th>\n",
       "      <td>37.000000</td>\n",
       "    </tr>\n",
       "    <tr>\n",
       "      <th>max</th>\n",
       "      <td>1902.000000</td>\n",
       "    </tr>\n",
       "  </tbody>\n",
       "</table>\n",
       "</div>"
      ],
      "text/plain": [
       "                   0\n",
       "count  296933.000000\n",
       "mean       25.683282\n",
       "std        22.148801\n",
       "min         0.000000\n",
       "25%        10.000000\n",
       "50%        23.000000\n",
       "75%        37.000000\n",
       "max      1902.000000"
      ]
     },
     "execution_count": 13,
     "metadata": {},
     "output_type": "execute_result"
    }
   ],
   "source": [
    "all_token_length.describe()"
   ]
  },
  {
   "cell_type": "code",
   "execution_count": 38,
   "metadata": {},
   "outputs": [
    {
     "data": {
      "text/plain": [
       "0    40.0\n",
       "Name: 0.8, dtype: float64"
      ]
     },
     "execution_count": 38,
     "metadata": {},
     "output_type": "execute_result"
    }
   ],
   "source": [
    "all_token_length.quantile(q = 0.80)"
   ]
  }
 ],
 "metadata": {
  "kernelspec": {
   "display_name": "Python 3",
   "language": "python",
   "name": "python3"
  },
  "language_info": {
   "codemirror_mode": {
    "name": "ipython",
    "version": 3
   },
   "file_extension": ".py",
   "mimetype": "text/x-python",
   "name": "python",
   "nbconvert_exporter": "python",
   "pygments_lexer": "ipython3",
   "version": "3.7.6"
  }
 },
 "nbformat": 4,
 "nbformat_minor": 4
}
