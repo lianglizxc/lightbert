{
 "cells": [
  {
   "cell_type": "code",
   "execution_count": 1,
   "metadata": {},
   "outputs": [],
   "source": [
    "import pandas as pd"
   ]
  },
  {
   "cell_type": "code",
   "execution_count": 2,
   "metadata": {},
   "outputs": [],
   "source": [
    "pd.set_option('display.max_rows', 500)\n",
    "pd.set_option('display.max_columns', 500)\n",
    "pd.set_option('display.width', 1000)"
   ]
  },
  {
   "cell_type": "code",
   "execution_count": 3,
   "metadata": {},
   "outputs": [],
   "source": [
    "finance_news = pd.read_excel('finance_data/SmoothNLP专栏资讯数据集样本10k.xlsx')\n",
    "finance_news = finance_news.drop(columns = ['Unnamed: 0'])"
   ]
  },
  {
   "cell_type": "code",
   "execution_count": 4,
   "metadata": {},
   "outputs": [],
   "source": [
    "finance_news = finance_news[~finance_news['content'].isna()]"
   ]
  },
  {
   "cell_type": "code",
   "execution_count": 5,
   "metadata": {},
   "outputs": [
    {
     "data": {
      "text/plain": [
       "Index(['title', 'content', 'pub_ts'], dtype='object')"
      ]
     },
     "execution_count": 5,
     "metadata": {},
     "output_type": "execute_result"
    }
   ],
   "source": [
    "finance_news.columns"
   ]
  },
  {
   "cell_type": "code",
   "execution_count": 6,
   "metadata": {},
   "outputs": [
    {
     "data": {
      "text/plain": [
       "'引入前美团地推大将，每日优鲜便利购如何上演“攻守道”?'"
      ]
     },
     "execution_count": 6,
     "metadata": {},
     "output_type": "execute_result"
    }
   ],
   "source": [
    "finance_news['title'].iloc[0]"
   ]
  },
  {
   "cell_type": "code",
   "execution_count": 7,
   "metadata": {},
   "outputs": [],
   "source": [
    "from transformers import BertTokenizer, BartForConditionalGeneration, SummarizationPipeline"
   ]
  },
  {
   "cell_type": "code",
   "execution_count": 8,
   "metadata": {},
   "outputs": [
    {
     "name": "stderr",
     "output_type": "stream",
     "text": [
      "The tokenizer class you load from this checkpoint is not the same type as the class this function is called from. It may result in unexpected tokenization. \n",
      "The tokenizer class you load from this checkpoint is 'BartTokenizer'. \n",
      "The class this function is called from is 'BertTokenizer'.\n"
     ]
    }
   ],
   "source": [
    "tokenizer = BertTokenizer.from_pretrained(\"fnlp/bart-base-chinese\")"
   ]
  },
  {
   "cell_type": "code",
   "execution_count": 9,
   "metadata": {},
   "outputs": [],
   "source": [
    "from gensim.summarization import keywords\n",
    "from gensim.summarization.summarizer import summarize"
   ]
  },
  {
   "cell_type": "code",
   "execution_count": 40,
   "metadata": {},
   "outputs": [
    {
     "data": {
      "text/plain": [
       "'全球视野中国实践，TCL如何用“三级火箭”完成智能科技时代跃迁的？'"
      ]
     },
     "execution_count": 40,
     "metadata": {},
     "output_type": "execute_result"
    }
   ],
   "source": [
    "index = 5\n",
    "finance_news['title'].iloc[index]"
   ]
  },
  {
   "cell_type": "code",
   "execution_count": 41,
   "metadata": {},
   "outputs": [],
   "source": [
    "gensim_summary = summarize(finance_news['content'].iloc[index])"
   ]
  },
  {
   "cell_type": "code",
   "execution_count": 42,
   "metadata": {},
   "outputs": [
    {
     "data": {
      "text/plain": [
       "'如今，中国经济在世界范围内的影响力持续提升。一带一路铺设了政策、市场环境的“绿色通道”，推动改革开放进入了深水区。在最初阶段，联想、华为、TCL等中国品牌走出去，做的是拓荒牛的事儿，需要面面俱到，经常会碰到发展瓶颈。但如今中国企业的“出海”有了天时地利人和的氛围：产品升级、技术创新和全球化浪潮三个转折点叠加到了一起。\\n如果以此划线来考量，下一步，中国企业、中国品牌究竟如何走？能不能站在时代切换的高度上，去解读“科技”之于企业、产业和国家的价值，更具体的说，针对智能化、科技化、全球化的趋势，如何构建企业的“三级火箭”系统，可能恰恰是关键所在。\\n过去，家电、通讯行业也没有这样的基因，做的是硬件的生意，但有的企业认识到了这一弊端，开始变革自己的业务模式，TCL则是其中代表之一。TCL集团董事长、CEO李东生说过，TCL致力于创新和科技引领用户进入极致体验的智能生活，推进垂直产业链一体化下的深度协同和多应用场景产品创新的横向拓展。过去几年，TCL提出了“智能+互联网”及“产品+服务”的“双+”转型战略。这些战略上的举措，恰恰是在为用户连接铺路架桥。\\n同样的道理，在此次IFA展上，TCL展出了全矩阵的旗舰产品，以“智造未来生活”为主题，把展区搭建成了“未来之家”，都是在用生活方式、生活态度的价值观来增强用户的认知和认可度，并转化为新商业、新业务的连接性网络。\\n最后一级火箭则是全球化潮流的引领力。\\n不仅如此，引领潮流，不能只强在技术、产品上，更要突破品牌的天花板，而这对中国企业来说，是最容易被忽视的一面。无论是连续八年参加IFA展，亮相全矩阵旗舰产品，还是在体育营销、娱乐营销、价值观营销等多维度上打造大国品牌，从传播中国文化、塑造中国品牌的角度，讲述大国崛起的故事，TCL的大开大合之举都颇具示范效应。'"
      ]
     },
     "execution_count": 42,
     "metadata": {},
     "output_type": "execute_result"
    }
   ],
   "source": [
    "gensim_summary"
   ]
  },
  {
   "cell_type": "code",
   "execution_count": 43,
   "metadata": {},
   "outputs": [
    {
     "data": {
      "text/plain": [
       "757"
      ]
     },
     "execution_count": 43,
     "metadata": {},
     "output_type": "execute_result"
    }
   ],
   "source": [
    "len(gensim_summary)"
   ]
  },
  {
   "cell_type": "code",
   "execution_count": 23,
   "metadata": {},
   "outputs": [
    {
     "name": "stdout",
     "output_type": "stream",
     "text": [
      "input must have more than one sentence\n",
      "input must have more than one sentence\n",
      "input must have more than one sentence\n",
      "input must have more than one sentence\n",
      "input must have more than one sentence\n",
      "input must have more than one sentence\n",
      "input must have more than one sentence\n",
      "input must have more than one sentence\n",
      "input must have more than one sentence\n",
      "input must have more than one sentence\n",
      "input must have more than one sentence\n",
      "input must have more than one sentence\n",
      "input must have more than one sentence\n",
      "input must have more than one sentence\n",
      "input must have more than one sentence\n",
      "input must have more than one sentence\n",
      "input must have more than one sentence\n",
      "input must have more than one sentence\n",
      "input must have more than one sentence\n",
      "input must have more than one sentence\n",
      "input must have more than one sentence\n",
      "input must have more than one sentence\n",
      "input must have more than one sentence\n",
      "input must have more than one sentence\n",
      "input must have more than one sentence\n",
      "input must have more than one sentence\n",
      "input must have more than one sentence\n",
      "input must have more than one sentence\n"
     ]
    }
   ],
   "source": [
    "summary_length = []\n",
    "for content in finance_news['content']:\n",
    "    try:\n",
    "        length = len(summarize(content))\n",
    "        summary_length.append(length)\n",
    "    except Exception as e:\n",
    "        print(e)\n",
    "        continue"
   ]
  },
  {
   "cell_type": "code",
   "execution_count": 24,
   "metadata": {},
   "outputs": [],
   "source": [
    "summary_length = pd.DataFrame(summary_length)"
   ]
  },
  {
   "cell_type": "code",
   "execution_count": 25,
   "metadata": {},
   "outputs": [
    {
     "data": {
      "text/html": [
       "<div>\n",
       "<style scoped>\n",
       "    .dataframe tbody tr th:only-of-type {\n",
       "        vertical-align: middle;\n",
       "    }\n",
       "\n",
       "    .dataframe tbody tr th {\n",
       "        vertical-align: top;\n",
       "    }\n",
       "\n",
       "    .dataframe thead th {\n",
       "        text-align: right;\n",
       "    }\n",
       "</style>\n",
       "<table border=\"1\" class=\"dataframe\">\n",
       "  <thead>\n",
       "    <tr style=\"text-align: right;\">\n",
       "      <th></th>\n",
       "      <th>0</th>\n",
       "    </tr>\n",
       "  </thead>\n",
       "  <tbody>\n",
       "    <tr>\n",
       "      <th>count</th>\n",
       "      <td>9966.000000</td>\n",
       "    </tr>\n",
       "    <tr>\n",
       "      <th>mean</th>\n",
       "      <td>470.637668</td>\n",
       "    </tr>\n",
       "    <tr>\n",
       "      <th>std</th>\n",
       "      <td>324.925751</td>\n",
       "    </tr>\n",
       "    <tr>\n",
       "      <th>min</th>\n",
       "      <td>0.000000</td>\n",
       "    </tr>\n",
       "    <tr>\n",
       "      <th>25%</th>\n",
       "      <td>274.000000</td>\n",
       "    </tr>\n",
       "    <tr>\n",
       "      <th>50%</th>\n",
       "      <td>445.000000</td>\n",
       "    </tr>\n",
       "    <tr>\n",
       "      <th>75%</th>\n",
       "      <td>633.000000</td>\n",
       "    </tr>\n",
       "    <tr>\n",
       "      <th>max</th>\n",
       "      <td>8893.000000</td>\n",
       "    </tr>\n",
       "  </tbody>\n",
       "</table>\n",
       "</div>"
      ],
      "text/plain": [
       "                 0\n",
       "count  9966.000000\n",
       "mean    470.637668\n",
       "std     324.925751\n",
       "min       0.000000\n",
       "25%     274.000000\n",
       "50%     445.000000\n",
       "75%     633.000000\n",
       "max    8893.000000"
      ]
     },
     "execution_count": 25,
     "metadata": {},
     "output_type": "execute_result"
    }
   ],
   "source": [
    "summary_length.describe()"
   ]
  },
  {
   "cell_type": "code",
   "execution_count": 12,
   "metadata": {},
   "outputs": [
    {
     "name": "stderr",
     "output_type": "stream",
     "text": [
      "Paddle enabled successfully......\n"
     ]
    }
   ],
   "source": [
    "import jieba\n",
    "jieba.enable_paddle()"
   ]
  },
  {
   "cell_type": "code",
   "execution_count": 13,
   "metadata": {},
   "outputs": [],
   "source": [
    "tokens = jieba.cut(\"所以，整个过程有点像勘探。首先是有人发起，然后有千百人买了镐和铁锹跟进。有人会满载而归，但看走眼的人也会空手回来。\"\n",
    "                   ,cut_all=False)"
   ]
  },
  {
   "cell_type": "code",
   "execution_count": 14,
   "metadata": {},
   "outputs": [],
   "source": [
    "from zhon.hanzi import punctuation as punctuation_zh\n",
    "from string import punctuation\n",
    "from words_utils import tokenization as finance_token\n",
    "import re"
   ]
  },
  {
   "cell_type": "code",
   "execution_count": 15,
   "metadata": {},
   "outputs": [],
   "source": [
    "def clean_text(content):\n",
    "    content = re.sub('\\xa0 ?|\\u3000+', '', content)\n",
    "    content = re.sub(' ?\\n+', '\\n', content)\n",
    "    content = content.strip('\\n')\n",
    "    return content"
   ]
  },
  {
   "cell_type": "code",
   "execution_count": 20,
   "metadata": {},
   "outputs": [],
   "source": [
    "clean_content = finance_news['content'].apply(clean_text)"
   ]
  },
  {
   "cell_type": "code",
   "execution_count": 22,
   "metadata": {},
   "outputs": [],
   "source": [
    "clean_content_length = clean_content.apply(lambda x: len(x))"
   ]
  },
  {
   "cell_type": "code",
   "execution_count": 26,
   "metadata": {},
   "outputs": [
    {
     "data": {
      "text/plain": [
       "count     9994.000000\n",
       "mean      2743.330698\n",
       "std       1176.500166\n",
       "min          0.000000\n",
       "25%       1959.000000\n",
       "50%       2620.500000\n",
       "75%       3376.000000\n",
       "max      18431.000000\n",
       "Name: content, dtype: float64"
      ]
     },
     "execution_count": 26,
     "metadata": {},
     "output_type": "execute_result"
    }
   ],
   "source": [
    "clean_content_length.describe()"
   ]
  },
  {
   "cell_type": "code",
   "execution_count": 25,
   "metadata": {},
   "outputs": [
    {
     "data": {
      "text/plain": [
       "2330"
      ]
     },
     "execution_count": 25,
     "metadata": {},
     "output_type": "execute_result"
    }
   ],
   "source": [
    "len(clean_content[0])"
   ]
  },
  {
   "cell_type": "code",
   "execution_count": 28,
   "metadata": {},
   "outputs": [],
   "source": [
    "from albertlib.tokenization import BasicTokenizer"
   ]
  },
  {
   "cell_type": "code",
   "execution_count": 29,
   "metadata": {},
   "outputs": [],
   "source": [
    "tokenizer = BasicTokenizer()"
   ]
  },
  {
   "cell_type": "code",
   "execution_count": 31,
   "metadata": {},
   "outputs": [
    {
     "data": {
      "text/plain": [
       "2251"
      ]
     },
     "execution_count": 31,
     "metadata": {},
     "output_type": "execute_result"
    }
   ],
   "source": [
    "len(tokenizer.tokenize(clean_content[0]))"
   ]
  },
  {
   "cell_type": "code",
   "execution_count": 31,
   "metadata": {},
   "outputs": [],
   "source": [
    "stop_words = finance_token.read_stop_words()\n",
    "tokenizer = finance_token.JiebaTokenizer(stop_words, [punctuation, punctuation_zh], vocab = 'finance_data/vocab')"
   ]
  },
  {
   "cell_type": "code",
   "execution_count": 57,
   "metadata": {},
   "outputs": [
    {
     "data": {
      "text/plain": [
       "'王石遭“疯抢”！为什么那么多公司想聘请他当董事长？'"
      ]
     },
     "execution_count": 57,
     "metadata": {},
     "output_type": "execute_result"
    }
   ],
   "source": [
    "finance_news['title'].iloc[3]"
   ]
  },
  {
   "cell_type": "code",
   "execution_count": 58,
   "metadata": {},
   "outputs": [
    {
     "data": {
      "text/plain": [
       "'\\n\\xa0 \\xa0 \\xa0 67岁的王石，终究还是回到了他熟悉的商业领域这一战场。在此前一段时间，王石似乎是习惯性地过起了“佛系”生活。在之前的一年时间中，王石身上的标签是“深潜”、“划艇”、“公益”、“艺术”、“生态”。王石做网红大叔好像“上瘾”了，褪去那种在商界叱咤风云的霸气。\\n\\xa0 \\xa0 \\xa0 但王石终究不是一个会耐得住寂寞的人，今年成为了两家公司的联席董事长。值得一提的是，华大集团、远大集团的董事长都是王石的好朋友，因此王石才答应成为联席董事长。至于其他邀请自己的公司，王石通通都拒绝了。不过面对这样的“疯抢”，事实上也证明着王石有着自身独特的魅力。\\n\\xa0 \\xa0 \\xa0 有句老话说得好，“人的名，树的影”。执掌万科多年的王石，早就成为商界的标志性人物。再说了，王石还是8848手机的代言人！唔，也算是手机圈的“另类网红”了。而且能够在万科这样一个巨型平台上游刃有余地奋斗那么多年，自然能够反映出王石有着足够强的能力。\\n\\n\\xa0 \\xa0 \\xa0 当然，更被其他公司注重的是王石的人脉和资源等。在商界有着极大影响力的王石，哪怕不负责公司的任何具体事务，只要挂个名就能让这家公司瞬间成为关注的焦点。\\n\\xa0 \\xa0 \\xa0 比如就在王石宣布成为华大集团联席董事长后，华大集团的股价当天就一路飙涨，甚至实现连续数天的狂涨势头。如果王石动用自己的人脉和资源，更有可能为公司插上腾飞的翅膀。看来，王石本身的影响力和“朋友圈”是他受到“疯抢”的根本原因。\\n\\n\\xa0 \\xa0 \\xa0 但必须要指出的是，王石最熟悉的还是地产圈。而华大集团和远大集团的主要业务是有关生物科技、环保方面，王石究竟能够发挥出多少能力还有待商榷。比如华大集团表示王石将发挥其在经营管理、制度建设、商业运作等方面的丰富经验和卓越能力，协助董事长管理集团事宜。不过王石真能像管理地产集团那样，去管理生物科技公司吗？我们还不得而知。\\n\\xa0 \\xa0 \\xa0 而就目前来看，王石在这些公司似乎还偏向于“玄学”意味的管理模式。就像王石提到的那样，“无论是代表传统的还是代表未来的企业，还有我的位置，很多基本的逻辑和道理是一样的”。这是不是意味着王石并没有真正的全面突破，还是会延续既有的管理经验呢？结果到底如何，一切都交给时间去验证吧！（科技新发现 康斯坦丁/文）\\n'"
      ]
     },
     "execution_count": 58,
     "metadata": {},
     "output_type": "execute_result"
    }
   ],
   "source": [
    "finance_news['content'].iloc[3]"
   ]
  },
  {
   "cell_type": "code",
   "execution_count": 5,
   "metadata": {},
   "outputs": [
    {
     "name": "stderr",
     "output_type": "stream",
     "text": [
      "Building prefix dict from the default dictionary ...\n",
      "Loading model from cache /tmp/jieba.cache\n",
      "Loading model cost 0.584 seconds.\n",
      "Prefix dict has been built successfully.\n"
     ]
    }
   ],
   "source": [
    "all_token_length = []\n",
    "with open('finance_data/data.txt','r', encoding='UTF-8') as file:\n",
    "    for line in file:\n",
    "        line = line.strip()\n",
    "        if len(line) == 0:\n",
    "            continue\n",
    "        tokens = tokenizer.tokenize(line)\n",
    "        all_token_length.append(len(tokens))"
   ]
  },
  {
   "cell_type": "code",
   "execution_count": 11,
   "metadata": {},
   "outputs": [],
   "source": [
    "all_token_length = pd.DataFrame(all_token_length)"
   ]
  },
  {
   "cell_type": "code",
   "execution_count": 13,
   "metadata": {},
   "outputs": [
    {
     "data": {
      "text/html": [
       "<div>\n",
       "<style scoped>\n",
       "    .dataframe tbody tr th:only-of-type {\n",
       "        vertical-align: middle;\n",
       "    }\n",
       "\n",
       "    .dataframe tbody tr th {\n",
       "        vertical-align: top;\n",
       "    }\n",
       "\n",
       "    .dataframe thead th {\n",
       "        text-align: right;\n",
       "    }\n",
       "</style>\n",
       "<table border=\"1\" class=\"dataframe\">\n",
       "  <thead>\n",
       "    <tr style=\"text-align: right;\">\n",
       "      <th></th>\n",
       "      <th>0</th>\n",
       "    </tr>\n",
       "  </thead>\n",
       "  <tbody>\n",
       "    <tr>\n",
       "      <th>count</th>\n",
       "      <td>296933.000000</td>\n",
       "    </tr>\n",
       "    <tr>\n",
       "      <th>mean</th>\n",
       "      <td>25.683282</td>\n",
       "    </tr>\n",
       "    <tr>\n",
       "      <th>std</th>\n",
       "      <td>22.148801</td>\n",
       "    </tr>\n",
       "    <tr>\n",
       "      <th>min</th>\n",
       "      <td>0.000000</td>\n",
       "    </tr>\n",
       "    <tr>\n",
       "      <th>25%</th>\n",
       "      <td>10.000000</td>\n",
       "    </tr>\n",
       "    <tr>\n",
       "      <th>50%</th>\n",
       "      <td>23.000000</td>\n",
       "    </tr>\n",
       "    <tr>\n",
       "      <th>75%</th>\n",
       "      <td>37.000000</td>\n",
       "    </tr>\n",
       "    <tr>\n",
       "      <th>max</th>\n",
       "      <td>1902.000000</td>\n",
       "    </tr>\n",
       "  </tbody>\n",
       "</table>\n",
       "</div>"
      ],
      "text/plain": [
       "                   0\n",
       "count  296933.000000\n",
       "mean       25.683282\n",
       "std        22.148801\n",
       "min         0.000000\n",
       "25%        10.000000\n",
       "50%        23.000000\n",
       "75%        37.000000\n",
       "max      1902.000000"
      ]
     },
     "execution_count": 13,
     "metadata": {},
     "output_type": "execute_result"
    }
   ],
   "source": [
    "all_token_length.describe()"
   ]
  },
  {
   "cell_type": "code",
   "execution_count": 38,
   "metadata": {},
   "outputs": [
    {
     "data": {
      "text/plain": [
       "0    40.0\n",
       "Name: 0.8, dtype: float64"
      ]
     },
     "execution_count": 38,
     "metadata": {},
     "output_type": "execute_result"
    }
   ],
   "source": [
    "all_token_length.quantile(q = 0.80)"
   ]
  }
 ],
 "metadata": {
  "kernelspec": {
   "display_name": "Python 3 (ipykernel)",
   "language": "python",
   "name": "python3"
  },
  "language_info": {
   "codemirror_mode": {
    "name": "ipython",
    "version": 3
   },
   "file_extension": ".py",
   "mimetype": "text/x-python",
   "name": "python",
   "nbconvert_exporter": "python",
   "pygments_lexer": "ipython3",
   "version": "3.9.13"
  }
 },
 "nbformat": 4,
 "nbformat_minor": 4
}
